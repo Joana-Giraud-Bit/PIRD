{
 "cells": [
  {
   "cell_type": "markdown",
   "id": "5a887128",
   "metadata": {},
   "source": [
    "# Correlation analysis for the apartments with themselves\n",
    "\n",
    "<div class=\"alert alert-success\" role=\"alert\">\n",
    "    <strong>Summary:</strong><br> This notebook calculates the correlation between apartment to form groups with similar consumption patterns. The first section of the notebook determines the correlation between apartments with themselves with a sampling of 10-min then we increase the timestep until the correlation hits a correlation above 0.5. At the same time, we explore the second hypothesis which is that the correlation is higher for the mean value of the three apartments. As before we increase the timestep as long as the threshold is not respected.\n",
    "</div>"
   ]
  },
  {
   "cell_type": "markdown",
   "id": "dc53cd44",
   "metadata": {},
   "source": [
    "The `os`module is employed to get the names of the entries by manipulating the path. To get more information, you have the option to refer to the library's documentation. Even though, this notebook will provide explanations for the [functions used]( https://docs.python.org/3/library/os.html).  \n",
    "The `pandas` module facilitates data analysis and the use of dataframes. You can find the library's documentation [there.](https://pandas.pydata.org/docs/)   \n",
    "The `numpy` module is instrumental in manipulating matrices and tables, serving for numerical calculations. You can find the library's documentation on [there.](https://numpy.org/doc/stable/) "
   ]
  },
  {
   "cell_type": "code",
   "execution_count": 1,
   "id": "f805fe74",
   "metadata": {},
   "outputs": [],
   "source": [
    "import os\n",
    "import numpy as np\n",
    "import pandas as pd"
   ]
  },
  {
   "cell_type": "markdown",
   "id": "874e2aa0",
   "metadata": {},
   "source": [
    "The required Domestic Hot Water (DHW) files end with \"-IECS\", this designation indicates data related to DHW.  \n",
    "The `os` module is utilized to compile a list of DHW data for all apartments."
   ]
  },
  {
   "cell_type": "code",
   "execution_count": 2,
   "id": "7a6cfee6",
   "metadata": {},
   "outputs": [],
   "source": [
    "folder = r\"../Data/\"\n",
    "files = os.listdir(folder)\n",
    "#Get a list of the different files named IECS\n",
    "list_IECS = [file for file in files if '-IECS' in file]   \n",
    "list_IECS.sort()"
   ]
  },
  {
   "cell_type": "markdown",
   "id": "059f5209",
   "metadata": {},
   "source": [
    "Using the `pandas` module, we read the CSV files containing the listed information from the previous step. Then, we use the `resample` function within the `pandas` module to resample the data to a 10-min interval."
   ]
  },
  {
   "cell_type": "code",
   "execution_count": 3,
   "id": "5c7111bb",
   "metadata": {},
   "outputs": [],
   "source": [
    "data = {} #Creation of a dictionary\n",
    "for file in list_IECS:\n",
    "    df = pd.read_csv(folder + file) #Read the csv file\n",
    "    ts = df.set_index('0')['Value']     # DataFrame -> TimeSeries\n",
    "    ts.index = pd.to_datetime(ts.index, unit='s')   # index to secondes\n",
    "    ts = ts.resample(\"10Min\").mean()    # resample 10 min\n",
    "    data[file[:-4]] = ts "
   ]
  },
  {
   "cell_type": "markdown",
   "id": "785e9378",
   "metadata": {},
   "source": [
    "We proceed to create a dataframe with the previously acquired data. "
   ]
  },
  {
   "cell_type": "code",
   "execution_count": 4,
   "id": "8b951c1b",
   "metadata": {},
   "outputs": [],
   "source": [
    "df = pd.DataFrame(data)\n",
    "df = df[~df.isnull().any(axis=1)]  # remove the row with Nan Value"
   ]
  },
  {
   "cell_type": "markdown",
   "id": "6ad43b96",
   "metadata": {},
   "source": [
    "We employ the `drop` function from the `pandas` module to suppress columns unnecessary for our analysis.  \n",
    "Then, the `mean` function from the `pandas` module is used to work out the average value across the three remaining apartments."
   ]
  },
  {
   "cell_type": "code",
   "execution_count": 5,
   "id": "819e658b",
   "metadata": {},
   "outputs": [],
   "source": [
    "df=df.drop(columns=['25-IECS', '26-IECS', '27-IECS', '35-IECS', '64-IECS', '65-IECS', '67-IECS', '9-IECS' ])\n",
    "df['mean'] = df.mean(axis=1) \n",
    "#print(df)"
   ]
  },
  {
   "cell_type": "markdown",
   "id": "38b7bb12",
   "metadata": {},
   "source": [
    "Conversion of the water consumption from l/s to l/h."
   ]
  },
  {
   "cell_type": "code",
   "execution_count": 6,
   "id": "e4561c08",
   "metadata": {},
   "outputs": [
    {
     "name": "stdout",
     "output_type": "stream",
     "text": [
      "                     34-IECS  36-IECS  63-IECS   mean\n",
      "0                                                    \n",
      "2020-12-01 12:10:00     0.00     0.00     0.00   0.00\n",
      "2020-12-01 12:20:00     0.00     0.00     0.00   0.00\n",
      "2020-12-01 12:30:00     0.00     0.00     0.00   0.00\n",
      "2020-12-01 12:40:00     5.94     0.00     0.00   1.98\n",
      "2020-12-01 12:50:00     0.00     0.00     5.76   1.92\n",
      "...                      ...      ...      ...    ...\n",
      "2021-06-08 14:50:00     0.00    59.40     0.00  19.80\n",
      "2021-06-08 15:00:00     0.00    11.88     0.00   3.96\n",
      "2021-06-08 15:10:00     0.00     0.00     0.00   0.00\n",
      "2021-06-08 15:20:00     0.00    17.64     0.00   5.88\n",
      "2021-06-08 15:30:00     0.00     0.00     0.00   0.00\n",
      "\n",
      "[26089 rows x 4 columns]\n"
     ]
    }
   ],
   "source": [
    "df=df*3600\n",
    "print(df)"
   ]
  },
  {
   "cell_type": "markdown",
   "id": "2160dae9",
   "metadata": {},
   "source": [
    "## Comparing the month of December\n",
    "\n",
    "<div class=\"alert alert-info\">\n",
    "<strong>Details :</strong><br>\n",
    "Working out the correlation of the apartments with themselves and for their mean value. If not sufficient, increase the resampling timestep. For this analysis we need to divide our information into two dataframe to compare them together. We want to compare the data of the month of December so we divide the month into two equal dataset.\n",
    "</div>"
   ]
  },
  {
   "cell_type": "markdown",
   "id": "976c164d",
   "metadata": {},
   "source": [
    "We start by dividing our data into two dataframe, the first analysis is composed of the month of December 2020, we will compare their values to see if ten-minute sampling of first part of December is equivalent to ten-minute sampling of the second part of December.  \n",
    "\n",
    "### Data preprocessing: \n",
    "\n",
    "\n",
    "It is essential to have the same number of columns and rows for this analysis either way the correlation won't work. The dataframe may exhibit varying numbers of rows, even though the period remains the same. This difference arises because we eliminated NaN values from the dataset, and their presence could be anywhere in the dataset.   \n",
    "To overcome this issue, we need to preprocess our data so we analyse our values by printing the data and looking at the numbers of rows and columns. We can use the `drop` function to suppress the right number of rows. We must change the dataset until the number of rows is equal to the other one. The dataprocessing is essential to compare the dataframe together, either way it won't be possible and an error will appear."
   ]
  },
  {
   "cell_type": "markdown",
   "id": "34f1c14b",
   "metadata": {},
   "source": [
    "We use the `corrwith` function of the `pandas` module to work out the correlation between two dataframes.  \n",
    "The name \"df_12_corr\" mean that we get a dataframe containing correlation values (indicate by the suffixe \"corr\") comparing the dataframe 1 and 2."
   ]
  },
  {
   "cell_type": "code",
   "execution_count": 7,
   "id": "4cc364f9",
   "metadata": {},
   "outputs": [
    {
     "name": "stdout",
     "output_type": "stream",
     "text": [
      "                     34-IECS  36-IECS  63-IECS  mean\n",
      "0                                                   \n",
      "2020-12-01 12:10:00     0.00      0.0     0.00  0.00\n",
      "2020-12-01 12:20:00     0.00      0.0     0.00  0.00\n",
      "2020-12-01 12:30:00     0.00      0.0     0.00  0.00\n",
      "2020-12-01 12:40:00     5.94      0.0     0.00  1.98\n",
      "2020-12-01 12:50:00     0.00      0.0     5.76  1.92\n",
      "...                      ...      ...      ...   ...\n",
      "2020-12-15 23:10:00     5.94      0.0     0.00  1.98\n",
      "2020-12-15 23:30:00    17.82      0.0     0.00  5.94\n",
      "2020-12-15 23:40:00     0.00      0.0     0.00  0.00\n",
      "2020-12-15 23:50:00    11.88      0.0     0.00  3.96\n",
      "2020-12-16 00:00:00     0.00      0.0     0.00  0.00\n",
      "\n",
      "[2004 rows x 4 columns]\n",
      "                     34-IECS  36-IECS  63-IECS  mean\n",
      "0                                                   \n",
      "2020-12-16 00:10:00      0.0      0.0      0.0   0.0\n",
      "2020-12-16 00:20:00      0.0      0.0      0.0   0.0\n",
      "2020-12-16 00:30:00      0.0      0.0      0.0   0.0\n",
      "2020-12-16 00:40:00      0.0      0.0      0.0   0.0\n",
      "2020-12-16 00:50:00      0.0      0.0      0.0   0.0\n",
      "...                      ...      ...      ...   ...\n",
      "2020-12-30 15:20:00      0.0      0.0      0.0   0.0\n",
      "2020-12-30 15:30:00      0.0      0.0      0.0   0.0\n",
      "2020-12-30 15:40:00      0.0      0.0      0.0   0.0\n",
      "2020-12-30 15:50:00      0.0      0.0      0.0   0.0\n",
      "2020-12-30 16:00:00      0.0      0.0      0.0   0.0\n",
      "\n",
      "[2004 rows x 4 columns]\n"
     ]
    }
   ],
   "source": [
    "df1=df['2020-12-01 00:00:00' : '2020-12-16 00:00:00']\n",
    "df2=df['2020-12-16 00:10:00' : '2020-12-30 16:00:00']\n",
    "print(df1)\n",
    "print(df2)"
   ]
  },
  {
   "cell_type": "markdown",
   "id": "c26f0158",
   "metadata": {},
   "source": [
    "When it is done and we have the same number of rows, we can apply the correlation to the dataset.  \n",
    "To work out the correlation between two dataframe we use the function `corrwith` that calculate the correlation between two dataframes.  \n",
    "However, to compare the dataframes it is necessary to have the same name of the different rows, either way the correlation will return a NaN value. To do so, we use the `set_axis` function of the `pandas` module that sets the rows name of the dataframe 2 as the rows name of the dataframe 1."
   ]
  },
  {
   "cell_type": "code",
   "execution_count": 8,
   "id": "e022b431",
   "metadata": {},
   "outputs": [
    {
     "name": "stdout",
     "output_type": "stream",
     "text": [
      "34-IECS    0.009986\n",
      "36-IECS   -0.011536\n",
      "63-IECS   -0.050793\n",
      "mean      -0.064636\n",
      "dtype: float64\n"
     ]
    }
   ],
   "source": [
    "df_12_corr =df1.corrwith(df2.set_axis(df1.index, axis='index', copy=False)) # Correlation matrice of df1 with df2 changing the index name with the index name of dh1 to compare them\n",
    "print(df_12_corr)"
   ]
  },
  {
   "cell_type": "markdown",
   "id": "19c44fe7",
   "metadata": {},
   "source": [
    "As the value of the correlation are insufficient, we increase the timeset of the sampling to one hour and drop the needed number of value to get the same number of rows by preprocessing the data."
   ]
  },
  {
   "cell_type": "code",
   "execution_count": 9,
   "id": "822f3e48",
   "metadata": {},
   "outputs": [
    {
     "name": "stdout",
     "output_type": "stream",
     "text": [
      "                     34-IECS  36-IECS  63-IECS    mean\n",
      "0                                                     \n",
      "2020-12-01 12:00:00    1.188     0.00    1.152   0.780\n",
      "2020-12-01 13:00:00    4.950     0.96    5.880   3.930\n",
      "2020-12-01 14:00:00   10.890     0.00   17.760   9.550\n",
      "2020-12-01 15:00:00    0.000    14.76   15.780  10.180\n",
      "2020-12-01 16:00:00    0.000     0.00    0.000   0.000\n",
      "...                      ...      ...      ...     ...\n",
      "2020-12-15 20:00:00    5.940     0.96    7.860   4.920\n",
      "2020-12-15 21:00:00    7.920     0.00    8.820   5.580\n",
      "2020-12-15 22:00:00    8.910     0.00   26.760  11.890\n",
      "2020-12-15 23:00:00    7.128     0.00    0.000   2.376\n",
      "2020-12-16 00:00:00    0.000     0.00    0.000   0.000\n",
      "\n",
      "[349 rows x 4 columns]\n",
      "                     34-IECS  36-IECS  63-IECS  mean\n",
      "0                                                   \n",
      "2020-12-16 00:00:00     0.00     0.00     0.00  0.00\n",
      "2020-12-16 01:00:00     0.00     0.00     0.00  0.00\n",
      "2020-12-16 02:00:00     0.00     0.00     0.00  0.00\n",
      "2020-12-16 03:00:00     0.00     0.00     0.00  0.00\n",
      "2020-12-16 04:00:00     0.00     0.00     0.00  0.00\n",
      "...                      ...      ...      ...   ...\n",
      "2020-12-30 12:00:00    10.89     0.00     0.96  3.95\n",
      "2020-12-30 13:00:00     9.90     0.96     4.98  5.28\n",
      "2020-12-30 14:00:00     0.00     0.00     0.00  0.00\n",
      "2020-12-30 15:00:00     0.00     0.00     0.00  0.00\n",
      "2020-12-30 16:00:00     0.00     0.00     0.00  0.00\n",
      "\n",
      "[353 rows x 4 columns]\n",
      "                     34-IECS  36-IECS  63-IECS   mean\n",
      "0                                                    \n",
      "2020-12-16 00:00:00     0.00     0.00     0.00   0.00\n",
      "2020-12-16 01:00:00     0.00     0.00     0.00   0.00\n",
      "2020-12-16 02:00:00     0.00     0.00     0.00   0.00\n",
      "2020-12-16 03:00:00     0.00     0.00     0.00   0.00\n",
      "2020-12-16 04:00:00     0.00     0.00     0.00   0.00\n",
      "...                      ...      ...      ...    ...\n",
      "2020-12-30 08:00:00     0.00     4.80     0.00   1.60\n",
      "2020-12-30 09:00:00     1.98     0.00     0.00   0.66\n",
      "2020-12-30 10:00:00     0.99     0.00     0.00   0.33\n",
      "2020-12-30 11:00:00     4.98    10.74    14.82  10.18\n",
      "2020-12-30 12:00:00    10.89     0.00     0.96   3.95\n",
      "\n",
      "[349 rows x 4 columns]\n",
      "34-IECS   -0.016868\n",
      "36-IECS   -0.093109\n",
      "63-IECS   -0.108098\n",
      "mean      -0.194524\n",
      "dtype: float64\n"
     ]
    }
   ],
   "source": [
    "df3=df1.resample('H').mean()\n",
    "df4=df2.resample('H').mean()\n",
    "\n",
    "print(df3)\n",
    "print(df4)\n",
    "\n",
    "df4=df4.drop('2020-12-30 13:00:00')\n",
    "df4=df4.drop('2020-12-30 14:00:00')\n",
    "df4=df4.drop('2020-12-30 15:00:00')\n",
    "df4=df4.drop('2020-12-30 16:00:00')\n",
    "\n",
    "print(df4)\n",
    "\n",
    "df_34_corr =df3.corrwith(df4.set_axis(df3.index, axis='index', copy=False)) # Correlation matrice of df1h with df2 changing the index name with the index name of dh1 to compare them\n",
    "print(df_34_corr)"
   ]
  },
  {
   "cell_type": "markdown",
   "id": "1ee05f4a",
   "metadata": {},
   "source": [
    "As the value of the correlation are insufficient, we increase the timeset of the sampling to a day. It means that if the correlation works, the apartment will need a tank to cover the hot water supply of one-day.  \n",
    "We repeat the process of preprocessing the data as done previously.  \n",
    "We repeat our analysis with the `corrwith` function and the `set_axis` function for the same purpose as mentioned earlier."
   ]
  },
  {
   "cell_type": "code",
   "execution_count": 10,
   "id": "650f77d0",
   "metadata": {},
   "outputs": [
    {
     "name": "stdout",
     "output_type": "stream",
     "text": [
      "             34-IECS   36-IECS    63-IECS      mean\n",
      "0                                                  \n",
      "2020-12-01  3.936176  4.500000   7.740000  5.392059\n",
      "2020-12-02  1.740857  3.648857   4.047429  3.145714\n",
      "2020-12-03  3.040292  2.267737   5.888759  3.732263\n",
      "2020-12-04  2.320147  2.459118   7.197353  3.992206\n",
      "2020-12-05  4.546619  5.630504   6.265036  5.480719\n",
      "2020-12-06  5.186331  5.876547   8.476835  6.513237\n",
      "2020-12-07  4.612993  3.804964   5.352701  4.590219\n",
      "2020-12-08  1.994453  2.435912   6.070073  3.500146\n",
      "2020-12-09  4.602302  3.426475  11.305036  6.444604\n",
      "2020-12-10  5.108143  2.638286  10.962000  6.236143\n",
      "2020-12-11  4.787737  1.968175   9.741022  5.498978\n",
      "2020-12-12  4.884604  2.566619   9.152806  5.534676\n",
      "2020-12-13  4.048029  9.417810   7.173723  6.879854\n",
      "2020-12-14  2.867050  2.152230   5.829928  3.616403\n",
      "2020-12-15  3.078129  3.286619   6.417842  4.260863\n",
      "2020-12-16  0.000000  0.000000   0.000000  0.000000\n",
      "             34-IECS   36-IECS   63-IECS      mean\n",
      "0                                                 \n",
      "2020-12-16  4.595294  4.664118  5.352353  4.870588\n",
      "2020-12-17  0.495000  4.090909  4.840909  3.142273\n",
      "2020-12-18  5.735821  2.622090  2.952537  3.770149\n",
      "2020-12-19  9.108261  3.446087  1.440000  4.664783\n",
      "2020-12-20  4.283741  6.873669  6.593957  5.917122\n",
      "2020-12-21  2.362500  3.412059  5.217353  3.663971\n",
      "2020-12-22  4.490597  3.425373  6.192537  4.702836\n",
      "2020-12-23  4.886866  1.958507  7.949552  4.931642\n",
      "2020-12-24  5.778806  1.676418  5.743881  4.399701\n",
      "2020-12-25  4.709552  2.100896  3.852537  3.554328\n",
      "2020-12-26  5.450143  1.928571  2.617714  3.332143\n",
      "2020-12-27  6.330423  2.679718  4.487324  4.499155\n",
      "2020-12-28  3.809118  3.851471  5.445000  4.368529\n",
      "2020-12-29  5.190638  4.023830  4.368511  4.527660\n",
      "2020-12-30  3.038936  1.175745  1.512766  1.909149\n",
      "34-IECS    0.037100\n",
      "36-IECS    0.461429\n",
      "63-IECS   -0.120559\n",
      "mean       0.108289\n",
      "dtype: float64\n"
     ]
    }
   ],
   "source": [
    "df5=df1.resample('D').mean()\n",
    "df6=df2.resample('D').mean()\n",
    "\n",
    "print(df5)\n",
    "print(df6)\n",
    "\n",
    "df5=df5.drop('2020-12-16')\n",
    "\n",
    "df_56_corr =df5.corrwith(df6.set_axis(df5.index, axis='index', copy=False)) # Correlation matrice of df1h with df2 changing the index name with the index name of dh1 to compare them\n",
    "print(df_56_corr)"
   ]
  },
  {
   "cell_type": "markdown",
   "id": "96246edb",
   "metadata": {},
   "source": [
    "As the value of the correlation are insufficient except for one apartment, we increase the timeset of the sampling to five days. It means that if the correlation works, the apartment will need a tank to cover the hot water supply of five-days.  \n",
    "We repeat the process of preprocessing the data as done previously.  \n",
    "We repeat our analysis with the `corrwith` function and the `set_axis` function for the same purpose as mentioned earlier."
   ]
  },
  {
   "cell_type": "code",
   "execution_count": 11,
   "id": "6c2aa4b7",
   "metadata": {},
   "outputs": [
    {
     "name": "stdout",
     "output_type": "stream",
     "text": [
      "             34-IECS   36-IECS   63-IECS      mean\n",
      "0                                                 \n",
      "2020-12-01  3.024871  3.620323  6.047419  4.230871\n",
      "2020-12-06  4.307775  3.637977  8.452717  5.466156\n",
      "2020-12-11  3.930304  3.867786  7.658466  5.152185\n",
      "2020-12-16  0.000000  0.000000  0.000000  0.000000\n",
      "             34-IECS   36-IECS   63-IECS      mean\n",
      "0                                                 \n",
      "2020-12-16  4.876701  4.354462  4.238351  4.489838\n",
      "2020-12-21  4.439464  2.517321  5.789464  4.248750\n",
      "2020-12-26  4.896662  2.836447  3.832098  3.855069\n",
      "34-IECS   -0.699922\n",
      "36-IECS   -0.411685\n",
      "63-IECS    0.609686\n",
      "mean      -0.614913\n",
      "dtype: float64\n"
     ]
    }
   ],
   "source": [
    "df7=df1.resample('5D').mean()\n",
    "df8=df2.resample('5D').mean()\n",
    "\n",
    "print(df7)\n",
    "print(df8)\n",
    "\n",
    "df7=df7.drop('2020-12-16')\n",
    "\n",
    "df_78_corr =df7.corrwith(df8.set_axis(df7.index, axis='index', copy=False)) # Correlation matrice of df1h with df2 changing the index name with the index name of dh1 to compare them\n",
    "print(df_78_corr)"
   ]
  },
  {
   "cell_type": "markdown",
   "id": "0124e423",
   "metadata": {},
   "source": [
    "As we can see the correlation work only for the apartment 63 because the threshold is above 0.5.  \n",
    "Compare to what we expected the mean is still low and doesn't increase with time.  \n",
    "We want to shift our analysis to compare one month of data with another one months of data. We compare the month of December with the month of January."
   ]
  },
  {
   "cell_type": "markdown",
   "id": "ebcb071a",
   "metadata": {},
   "source": [
    "## Correlation of the 3 apartments with themselves and of the mean value of the apartment starting with a comparison between December 2020 and January 2021\n",
    "\n",
    "<div class=\"alert alert-info\">\n",
    "<strong>Details :</strong><br>\n",
    "Working out the correlation of the apartments with themselves and for their mean value. If not sufficient, increase the resampling timestep. For this analysis we need to divide our information into two dataframe to compare them together.\n",
    "</div>"
   ]
  },
  {
   "cell_type": "markdown",
   "id": "a568447e",
   "metadata": {},
   "source": [
    "We start by dividing our data into two dataframe, the second analysis is composed of the month of December 2020 and January 2021, we will compare their values to see if ten-minute sampling of December is equivalent to ten-minute sampling of January.  \n",
    "\n",
    "### Data preprocessing: \n",
    "\n",
    "\n",
    "It is essential to have the same number of columns and rows for this analysis either way the correlation won't work. The dataframe may exhibit varying numbers of rows, even though the period remains the same. This difference arises because we eliminated NaN values from the dataset, and their presence could be anywhere in the dataset.   \n",
    "To overcome this issue, we need to preprocess our data so we analyse our values by printing the data and looking at the numbers of rows and columns. We must change the dataset until the number of rows is equal to the other one. The dataprocessing is essential to compare the dataframe together, either way it won't be possible and an error will appear."
   ]
  },
  {
   "cell_type": "code",
   "execution_count": 12,
   "id": "7dae5967",
   "metadata": {},
   "outputs": [
    {
     "name": "stdout",
     "output_type": "stream",
     "text": [
      "                     34-IECS  36-IECS  63-IECS  mean\n",
      "0                                                   \n",
      "2020-12-01 12:10:00     0.00      0.0     0.00  0.00\n",
      "2020-12-01 12:20:00     0.00      0.0     0.00  0.00\n",
      "2020-12-01 12:30:00     0.00      0.0     0.00  0.00\n",
      "2020-12-01 12:40:00     5.94      0.0     0.00  1.98\n",
      "2020-12-01 12:50:00     0.00      0.0     5.76  1.92\n",
      "...                      ...      ...      ...   ...\n",
      "2020-12-30 23:20:00     0.00      0.0     0.00  0.00\n",
      "2020-12-30 23:30:00     0.00      0.0     0.00  0.00\n",
      "2020-12-30 23:40:00     0.00      0.0     0.00  0.00\n",
      "2020-12-30 23:50:00     0.00      0.0     0.00  0.00\n",
      "2020-12-31 00:00:00     0.00      0.0     0.00  0.00\n",
      "\n",
      "[4053 rows x 4 columns]\n",
      "                     34-IECS  36-IECS  63-IECS   mean\n",
      "0                                                    \n",
      "2021-01-01 00:00:00      0.0      0.0     0.00   0.00\n",
      "2021-01-01 00:10:00      0.0      0.0     0.00   0.00\n",
      "2021-01-01 00:20:00      0.0      0.0     0.00   0.00\n",
      "2021-01-01 00:30:00      0.0      0.0     0.00   0.00\n",
      "2021-01-01 00:40:00      0.0      0.0     0.00   0.00\n",
      "...                      ...      ...      ...    ...\n",
      "2021-01-30 12:20:00      0.0      0.0     0.00   0.00\n",
      "2021-01-30 12:30:00      0.0      0.0   112.68  37.56\n",
      "2021-01-30 12:40:00      0.0      0.0   100.80  33.60\n",
      "2021-01-30 12:50:00      0.0      0.0     0.00   0.00\n",
      "2021-01-30 13:00:00      0.0      0.0     0.00   0.00\n",
      "\n",
      "[4053 rows x 4 columns]\n"
     ]
    }
   ],
   "source": [
    "df9=df['2020-12-01 00:00:00' : '2020-12-31 00:00:00']\n",
    "df10=df['2021-01-01 00:00:00' : '2021-01-30 13:00:00']\n",
    "print(df9)\n",
    "print(df10)"
   ]
  },
  {
   "cell_type": "markdown",
   "id": "e2acb477",
   "metadata": {},
   "source": [
    "When it is done and we have the same number of rows, we can apply the correlation to the dataset.  \n",
    "To work out the correlation between two dataframe we use the `corrwith` function that calculate the correlation between two dataframes.  \n",
    "However, to compare the dataframes it is necessary to have the same name of the different rows, either way the correlation will return a NaN value. To do so, we use the `set_axis` function of the `pandas` module that sets the rows name of the dataframe 2 as the rows name of the dataframe 1."
   ]
  },
  {
   "cell_type": "code",
   "execution_count": 13,
   "id": "730107e3",
   "metadata": {
    "scrolled": true
   },
   "outputs": [
    {
     "name": "stdout",
     "output_type": "stream",
     "text": [
      "34-IECS   -0.017422\n",
      "36-IECS   -0.021889\n",
      "63-IECS   -0.025402\n",
      "mean      -0.058032\n",
      "dtype: float64\n"
     ]
    }
   ],
   "source": [
    "df_910_corr =df9.corrwith(df10.set_axis(df9.index, axis='index', copy=False)) # Correlation matrice of df1h with df2 changing the index name with the index name of dh1 to compare them\n",
    "print(df_910_corr)"
   ]
  },
  {
   "cell_type": "markdown",
   "id": "4729e753",
   "metadata": {},
   "source": [
    "As the value of the correlation are insufficient, we increase the timeset of the sampling to one hour.  \n",
    "We repeat the process of preprocessing the data.  \n",
    "We repeat our analysis with the `corrwith` function and the `set_axis` function for the same purpose as mentioned earlier."
   ]
  },
  {
   "cell_type": "code",
   "execution_count": 14,
   "id": "6988f020",
   "metadata": {
    "scrolled": true
   },
   "outputs": [
    {
     "name": "stdout",
     "output_type": "stream",
     "text": [
      "                     34-IECS  36-IECS  63-IECS    mean\n",
      "0                                                     \n",
      "2020-12-01 12:00:00    1.188     0.00    1.152   0.780\n",
      "2020-12-01 13:00:00    4.950     0.96    5.880   3.930\n",
      "2020-12-01 14:00:00   10.890     0.00   17.760   9.550\n",
      "2020-12-01 15:00:00    0.000    14.76   15.780  10.180\n",
      "2020-12-01 16:00:00    0.000     0.00    0.000   0.000\n",
      "...                      ...      ...      ...     ...\n",
      "2020-12-30 20:00:00    0.000     0.00    2.376   0.792\n",
      "2020-12-30 21:00:00    1.980     0.96    0.000   0.980\n",
      "2020-12-30 22:00:00    0.000     0.96    0.000   0.320\n",
      "2020-12-30 23:00:00    0.000     0.00    0.000   0.000\n",
      "2020-12-31 00:00:00    0.000     0.00    0.000   0.000\n",
      "\n",
      "[709 rows x 4 columns]\n",
      "                     34-IECS  36-IECS  63-IECS    mean\n",
      "0                                                     \n",
      "2021-01-01 00:00:00    0.000    0.000     0.00   0.000\n",
      "2021-01-01 01:00:00    0.000    0.960     0.00   0.320\n",
      "2021-01-01 02:00:00    0.000    0.000     0.00   0.000\n",
      "2021-01-01 03:00:00    0.000    0.000     0.00   0.000\n",
      "2021-01-01 04:00:00    0.000    0.000     0.00   0.000\n",
      "...                      ...      ...      ...     ...\n",
      "2021-01-30 09:00:00    2.970    0.000     0.00   0.990\n",
      "2021-01-30 10:00:00   16.632    1.152     8.28   8.688\n",
      "2021-01-30 11:00:00    0.000    3.900     4.92   2.940\n",
      "2021-01-30 12:00:00    0.000    0.000    40.50  13.500\n",
      "2021-01-30 13:00:00    0.000    0.000     0.00   0.000\n",
      "\n",
      "[710 rows x 4 columns]\n",
      "                     34-IECS  36-IECS  63-IECS   mean\n",
      "0                                                    \n",
      "2020-12-16 00:00:00     0.00     0.00     0.00   0.00\n",
      "2020-12-16 01:00:00     0.00     0.00     0.00   0.00\n",
      "2020-12-16 02:00:00     0.00     0.00     0.00   0.00\n",
      "2020-12-16 03:00:00     0.00     0.00     0.00   0.00\n",
      "2020-12-16 04:00:00     0.00     0.00     0.00   0.00\n",
      "...                      ...      ...      ...    ...\n",
      "2020-12-30 08:00:00     0.00     4.80     0.00   1.60\n",
      "2020-12-30 09:00:00     1.98     0.00     0.00   0.66\n",
      "2020-12-30 10:00:00     0.99     0.00     0.00   0.33\n",
      "2020-12-30 11:00:00     4.98    10.74    14.82  10.18\n",
      "2020-12-30 12:00:00    10.89     0.00     0.96   3.95\n",
      "\n",
      "[349 rows x 4 columns]\n",
      "34-IECS   -0.057279\n",
      "36-IECS   -0.065575\n",
      "63-IECS   -0.108426\n",
      "mean      -0.178663\n",
      "dtype: float64\n"
     ]
    }
   ],
   "source": [
    "df11=df9.resample('H').mean()\n",
    "df12=df10.resample('H').mean()\n",
    "\n",
    "print(df11)\n",
    "print(df12)\n",
    "\n",
    "df12=df12.drop('2021-01-30 13:00:00')\n",
    "\n",
    "print(df4)\n",
    "\n",
    "df_1112_corr =df11.corrwith(df12.set_axis(df11.index, axis='index', copy=False)) # Correlation matrice of df1h with df2 changing the index name with the index name of dh1 to compare them\n",
    "print(df_1112_corr)"
   ]
  },
  {
   "cell_type": "markdown",
   "id": "64d2148f",
   "metadata": {},
   "source": [
    "As the value of the correlation are insufficient, we increase the timeset of the sampling to 10 days. It means that if the correlation works, the apartment will need a tank to cover the hot water supply of ten-days.  \n",
    "We repeat the process of preprocessing the data.  \n",
    "We repeat our analysis with the `corrwith` function and the `set_axis` function for the same purpose as mentioned earlier."
   ]
  },
  {
   "cell_type": "code",
   "execution_count": 15,
   "id": "23e89baf",
   "metadata": {},
   "outputs": [
    {
     "name": "stdout",
     "output_type": "stream",
     "text": [
      "             34-IECS   36-IECS   63-IECS      mean\n",
      "0                                                 \n",
      "2020-12-01  3.701524  3.629634  7.316067  4.882409\n",
      "2020-12-11  4.396149  4.105996  5.959037  4.820394\n",
      "2020-12-21  4.758890  2.833192  4.808327  4.133470\n",
      "2020-12-31  0.000000  0.000000  0.000000  0.000000\n",
      "             34-IECS   36-IECS   63-IECS      mean\n",
      "0                                                 \n",
      "2021-01-01  4.944077  4.309442  2.202747  3.818755\n",
      "2021-01-11  4.208430  3.687904  7.284388  5.060240\n",
      "2021-01-21  4.650770  3.005076  6.574079  4.743308\n",
      "             34-IECS   36-IECS   63-IECS      mean\n",
      "0                                                 \n",
      "2020-12-01  3.701524  3.629634  7.316067  4.882409\n",
      "2020-12-11  4.396149  4.105996  5.959037  4.820394\n",
      "2020-12-21  4.758890  2.833192  4.808327  4.133470\n",
      "34-IECS   -0.553395\n",
      "36-IECS    0.640311\n",
      "63-IECS   -0.822186\n",
      "mean      -0.342955\n",
      "dtype: float64\n"
     ]
    }
   ],
   "source": [
    "df13=df9.resample('10D').mean()\n",
    "df14=df10.resample('10D').mean()\n",
    "\n",
    "print(df13)\n",
    "print(df14)\n",
    "\n",
    "df13=df13.drop('2020-12-31')\n",
    "print(df13)\n",
    "\n",
    "df_1415_corr =df13.corrwith(df14.set_axis(df13.index, axis='index', copy=False)) # Correlation matrice of df1h with df2 changing the index name with the index name of dh1 to compare them\n",
    "print(df_1415_corr)"
   ]
  },
  {
   "cell_type": "markdown",
   "id": "e71f3395",
   "metadata": {},
   "source": [
    "As we can see the correlation work only for the apartment 36 because the threshold is above 0.5.  \n",
    "Compare to what we expected the mean is still low and doesn't increase with time.  \n",
    "We want to shift our analysis to compare six months with another six months."
   ]
  },
  {
   "cell_type": "markdown",
   "id": "84cc8194",
   "metadata": {},
   "source": [
    "## Comparing two dataframe of six months\n",
    "\n",
    "\n",
    "<div class=\"alert alert-info\">\n",
    "<strong>Details :</strong><br>\n",
    "We repeat our experimentation with two dataframe with six months of data. Starting by working out the correlation of the apartments with themselves and for their mean value. If not sufficient, increase the resampling timestep. For this analysis we need to divide our information into two equivalent dataframe to compare them together.\n",
    "</div>"
   ]
  },
  {
   "cell_type": "markdown",
   "id": "dbe8daeb",
   "metadata": {},
   "source": [
    "We start by dividing our data into two dataframe, the third analysis is composed of the six months, we will compare their values to see if ten-minute sampling of first six months is equivalent to ten-minute sampling of the second six months period.  \n",
    "\n",
    "### Data preprocessing:  \n",
    "\n",
    "It is essential to have the same number of columns and rows for this analysis either way the correlation won't work. The dataframe may exhibit varying numbers of rows, even though the period remains the same. This difference arises because we eliminated NaN values from the dataset, and their presence could be anywhere in the dataset.   \n",
    "To overcome this issue, we need to preprocess our data so we analyse our values by printing the data and looking at the numbers of rows and columns. We must change the dataset until the number of rows is equal to the other one. The dataprocessing is essential to compare the dataframe together, either way it won't be possible and an error will appear."
   ]
  },
  {
   "cell_type": "code",
   "execution_count": 16,
   "id": "952c355c",
   "metadata": {},
   "outputs": [
    {
     "name": "stdout",
     "output_type": "stream",
     "text": [
      "                     34-IECS  36-IECS  63-IECS  mean\n",
      "0                                                   \n",
      "2020-12-01 12:10:00     0.00      0.0     0.00  0.00\n",
      "2020-12-01 12:20:00     0.00      0.0     0.00  0.00\n",
      "2020-12-01 12:30:00     0.00      0.0     0.00  0.00\n",
      "2020-12-01 12:40:00     5.94      0.0     0.00  1.98\n",
      "2020-12-01 12:50:00     0.00      0.0     5.76  1.92\n",
      "...                      ...      ...      ...   ...\n",
      "2021-02-27 23:20:00     0.00      0.0     0.00  0.00\n",
      "2021-02-27 23:30:00     0.00      0.0     0.00  0.00\n",
      "2021-02-27 23:40:00     0.00      0.0     0.00  0.00\n",
      "2021-02-27 23:50:00     0.00      0.0     0.00  0.00\n",
      "2021-02-28 00:00:00     0.00      0.0     0.00  0.00\n",
      "\n",
      "[12187 rows x 4 columns]\n",
      "                     34-IECS  36-IECS  63-IECS  mean\n",
      "0                                                   \n",
      "2021-03-01 00:00:00      0.0      0.0      0.0   0.0\n",
      "2021-03-01 00:10:00      0.0      0.0      0.0   0.0\n",
      "2021-03-01 00:20:00      0.0      0.0      0.0   0.0\n",
      "2021-03-01 00:30:00      0.0      0.0      0.0   0.0\n",
      "2021-03-01 00:40:00      0.0      0.0      0.0   0.0\n",
      "...                      ...      ...      ...   ...\n",
      "2021-05-28 03:20:00      0.0      0.0      0.0   0.0\n",
      "2021-05-28 03:30:00      0.0      0.0      0.0   0.0\n",
      "2021-05-28 03:40:00      0.0      0.0      0.0   0.0\n",
      "2021-05-28 03:50:00      0.0      0.0      0.0   0.0\n",
      "2021-05-28 04:00:00      0.0      0.0      0.0   0.0\n",
      "\n",
      "[12187 rows x 4 columns]\n",
      "34-IECS   -0.000468\n",
      "36-IECS   -0.003253\n",
      "63-IECS   -0.006198\n",
      "mean      -0.022284\n",
      "dtype: float64\n"
     ]
    }
   ],
   "source": [
    "df15=df['2020-12-01 00:00:00' : '2021-02-28 00:00:00']\n",
    "df16=df['2021-03-01 00:00:00' : '2021-05-28 04:00:00']\n",
    "print(df15)\n",
    "print(df16)\n",
    "\n",
    "\n",
    "df_1516_corr =df15.corrwith(df16.set_axis(df15.index, axis='index', copy=False)) # Correlation matrice of df1h with df2 changing the index name with the index name of dh1 to compare them\n",
    "print(df_1516_corr)"
   ]
  },
  {
   "cell_type": "markdown",
   "id": "fbd2f087",
   "metadata": {},
   "source": [
    "As the value of the correlation are insufficient, we increase the timeset of the sampling to one hour. It means that if the correlation works, the apartment will need a tank to cover the hot water supply of one-hour.  \n",
    "We repeat the process of preprocessing the data.  \n",
    "We repeat our analysis with the `corrwith` function and the `set_axis` function for the same purpose as mentioned earlier."
   ]
  },
  {
   "cell_type": "code",
   "execution_count": 17,
   "id": "c90fba45",
   "metadata": {},
   "outputs": [
    {
     "name": "stdout",
     "output_type": "stream",
     "text": [
      "                     34-IECS  36-IECS  63-IECS   mean\n",
      "0                                                    \n",
      "2020-12-01 12:00:00    1.188    0.000    1.152   0.78\n",
      "2020-12-01 13:00:00    4.950    0.960    5.880   3.93\n",
      "2020-12-01 14:00:00   10.890    0.000   17.760   9.55\n",
      "2020-12-01 15:00:00    0.000   14.760   15.780  10.18\n",
      "2020-12-01 16:00:00    0.000    0.000    0.000   0.00\n",
      "...                      ...      ...      ...    ...\n",
      "2021-02-27 20:00:00   22.716   82.872   13.032  39.54\n",
      "2021-02-27 21:00:00    0.000    0.960   26.760   9.24\n",
      "2021-02-27 22:00:00    0.000    0.000    0.000   0.00\n",
      "2021-02-27 23:00:00    0.000    0.000    0.000   0.00\n",
      "2021-02-28 00:00:00    0.000    0.000    0.000   0.00\n",
      "\n",
      "[2125 rows x 4 columns]\n",
      "                     34-IECS  36-IECS  63-IECS  mean\n",
      "0                                                   \n",
      "2021-03-01 00:00:00      0.0     0.00     0.00  0.00\n",
      "2021-03-01 01:00:00      0.0     0.00    17.82  5.94\n",
      "2021-03-01 02:00:00      0.0     0.00     0.00  0.00\n",
      "2021-03-01 03:00:00      0.0     0.00     0.00  0.00\n",
      "2021-03-01 04:00:00      0.0     1.92     0.00  0.64\n",
      "...                      ...      ...      ...   ...\n",
      "2021-05-28 00:00:00      0.0     0.00     0.00  0.00\n",
      "2021-05-28 01:00:00      0.0     0.00     0.00  0.00\n",
      "2021-05-28 02:00:00      0.0     0.00     0.00  0.00\n",
      "2021-05-28 03:00:00      0.0     0.00     0.00  0.00\n",
      "2021-05-28 04:00:00      0.0     0.00     0.00  0.00\n",
      "\n",
      "[2117 rows x 4 columns]\n",
      "(2117, 4)\n",
      "34-IECS    0.007814\n",
      "36-IECS    0.007959\n",
      "63-IECS    0.047884\n",
      "mean       0.055771\n",
      "dtype: float64\n"
     ]
    }
   ],
   "source": [
    "df17=df15.resample('H').mean()\n",
    "df18=df16.resample('H').mean()\n",
    "print(df17)\n",
    "print(df18)\n",
    "\n",
    "df17=df17.drop('2020-12-01 12:00:00')\n",
    "df17=df17.drop('2020-12-01 13:00:00')\n",
    "df17=df17.drop('2020-12-01 14:00:00')\n",
    "df17=df17.drop('2020-12-01 15:00:00')\n",
    "df17=df17.drop('2020-12-01 16:00:00')\n",
    "df17=df17.drop('2020-12-01 17:00:00')\n",
    "df17=df17.drop('2020-12-01 18:00:00')\n",
    "df17=df17.drop('2020-12-01 19:00:00')\n",
    "\n",
    "print(df17.shape)\n",
    "\n",
    "df_1718_corr =df17.corrwith(df18.set_axis(df17.index, axis='index', copy=False)) # Correlation matrice of df1h with df2 changing the index name with the index name of dh1 to compare them\n",
    "print(df_1718_corr)"
   ]
  },
  {
   "cell_type": "markdown",
   "id": "ce071225",
   "metadata": {},
   "source": [
    "As the value of the correlation are insufficient, we increase the timeset of the sampling to one day. It means that if the correlation works, the apartment will need a tank to cover the hot water supply of one-day.  \n",
    "We repeat the process of preprocessing the data.  \n",
    "We repeat our analysis with the `corrwith` function and the `set_axis` function for the same purpose as mentioned earlier."
   ]
  },
  {
   "cell_type": "code",
   "execution_count": 18,
   "id": "0bcd9931",
   "metadata": {},
   "outputs": [
    {
     "name": "stdout",
     "output_type": "stream",
     "text": [
      "             34-IECS    36-IECS    63-IECS       mean\n",
      "0                                                    \n",
      "2020-12-01  3.936176   4.500000   7.740000   5.392059\n",
      "2020-12-02  1.740857   3.648857   4.047429   3.145714\n",
      "2020-12-03  3.040292   2.267737   5.888759   3.732263\n",
      "2020-12-04  2.320147   2.459118   7.197353   3.992206\n",
      "2020-12-05  4.546619   5.630504   6.265036   5.480719\n",
      "...              ...        ...        ...        ...\n",
      "2021-02-24  3.719118   3.285000   5.831471   4.278529\n",
      "2021-02-25  1.326043   3.822734   6.298705   3.815827\n",
      "2021-02-26  3.528000   3.605333  10.618667   5.917333\n",
      "2021-02-27  4.655036  11.157372  15.167299  10.326569\n",
      "2021-02-28  0.000000   0.000000   0.000000   0.000000\n",
      "\n",
      "[90 rows x 4 columns]\n",
      "             34-IECS   36-IECS   63-IECS      mean\n",
      "0                                                 \n",
      "2021-03-01  2.439712  2.367194  7.730935  4.179281\n",
      "2021-03-02  5.612374  2.486331  4.389928  4.162878\n",
      "2021-03-03  3.146143  3.216857  2.365714  2.909571\n",
      "2021-03-04  1.956350  1.747445  2.601460  2.101752\n",
      "2021-03-05  7.148571  4.415143  1.316571  4.293429\n",
      "...              ...       ...       ...       ...\n",
      "2021-05-24  4.317391  3.751304  1.192174  3.086957\n",
      "2021-05-25  1.999286  2.602286  3.183429  2.595000\n",
      "2021-05-26  2.650791  5.617554  7.290647  5.186331\n",
      "2021-05-27  7.709143  4.651714  4.006286  5.455714\n",
      "2021-05-28  0.000000  0.000000  0.000000  0.000000\n",
      "\n",
      "[89 rows x 4 columns]\n",
      "(89, 4)\n",
      "34-IECS   -0.082955\n",
      "36-IECS    0.092144\n",
      "63-IECS   -0.153276\n",
      "mean       0.084778\n",
      "dtype: float64\n"
     ]
    }
   ],
   "source": [
    "df19=df15.resample('D').mean()\n",
    "df20=df16.resample('D').mean()\n",
    "print(df19)\n",
    "print(df20)\n",
    "\n",
    "df19=df19.drop('2020-12-01')\n",
    "\n",
    "print(df19.shape)\n",
    "\n",
    "df_1920_corr =df19.corrwith(df20.set_axis(df19.index, axis='index', copy=False)) # Correlation matrice of df1h with df2 changing the index name with the index name of dh1 to compare them\n",
    "print(df_1920_corr)"
   ]
  },
  {
   "cell_type": "markdown",
   "id": "ea29c070",
   "metadata": {},
   "source": [
    "As the value of the correlation are insufficient, we increase the timeset of the sampling to 10 days. It means that if the correlation works, the apartment will need a tank to cover the hot water supply of ten-days.  \n",
    "We repeat the process of preprocessing the data.  \n",
    "We repeat our analysis with the `corrwith` function and the `set_axis` function for the same purpose as mentioned earlier."
   ]
  },
  {
   "cell_type": "code",
   "execution_count": 19,
   "id": "f55cf4db",
   "metadata": {},
   "outputs": [
    {
     "name": "stdout",
     "output_type": "stream",
     "text": [
      "             34-IECS    36-IECS    63-IECS       mean\n",
      "0                                                    \n",
      "2020-12-02  1.740857   3.648857   4.047429   3.145714\n",
      "2020-12-03  3.040292   2.267737   5.888759   3.732263\n",
      "2020-12-04  2.320147   2.459118   7.197353   3.992206\n",
      "2020-12-05  4.546619   5.630504   6.265036   5.480719\n",
      "2020-12-06  5.186331   5.876547   8.476835   6.513237\n",
      "...              ...        ...        ...        ...\n",
      "2021-02-24  3.719118   3.285000   5.831471   4.278529\n",
      "2021-02-25  1.326043   3.822734   6.298705   3.815827\n",
      "2021-02-26  3.528000   3.605333  10.618667   5.917333\n",
      "2021-02-27  4.655036  11.157372  15.167299  10.326569\n",
      "2021-02-28  0.000000   0.000000   0.000000   0.000000\n",
      "\n",
      "[89 rows x 4 columns]\n",
      "             34-IECS   36-IECS   63-IECS      mean\n",
      "0                                                 \n",
      "2021-03-01  2.439712  2.367194  7.730935  4.179281\n",
      "2021-03-02  5.612374  2.486331  4.389928  4.162878\n",
      "2021-03-03  3.146143  3.216857  2.365714  2.909571\n",
      "2021-03-04  1.956350  1.747445  2.601460  2.101752\n",
      "2021-03-05  7.148571  4.415143  1.316571  4.293429\n",
      "...              ...       ...       ...       ...\n",
      "2021-05-24  4.317391  3.751304  1.192174  3.086957\n",
      "2021-05-25  1.999286  2.602286  3.183429  2.595000\n",
      "2021-05-26  2.650791  5.617554  7.290647  5.186331\n",
      "2021-05-27  7.709143  4.651714  4.006286  5.455714\n",
      "2021-05-28  0.000000  0.000000  0.000000  0.000000\n",
      "\n",
      "[89 rows x 4 columns]\n",
      "34-IECS    0.160359\n",
      "36-IECS   -0.168538\n",
      "63-IECS   -0.584197\n",
      "mean      -0.530821\n",
      "dtype: float64\n"
     ]
    }
   ],
   "source": [
    "df21=df15.resample('10D').mean()\n",
    "df22=df16.resample('10D').mean()\n",
    "print(df19)\n",
    "print(df20)\n",
    "\n",
    "\n",
    "\n",
    "df_2122_corr =df21.corrwith(df22.set_axis(df21.index, axis='index', copy=False)) # Correlation matrice of df1h with df2 changing the index name with the index name of dh1 to compare them\n",
    "print(df_2122_corr)"
   ]
  },
  {
   "cell_type": "markdown",
   "id": "cea23f24",
   "metadata": {},
   "source": [
    "As the value of the correlation are insufficient, we increase the timeset of the sampling to one month. It means that if the correlation works, the apartment will need a tank to cover the hot water supply of one-month.  \n",
    "We repeat the process of preprocessing the data.  \n",
    "We repeat our analysis with the `corrwith` function and the `set_axis` function for the same purpose as mentioned earlier."
   ]
  },
  {
   "cell_type": "code",
   "execution_count": 20,
   "id": "acc0952a",
   "metadata": {},
   "outputs": [
    {
     "name": "stdout",
     "output_type": "stream",
     "text": [
      "             34-IECS   36-IECS   63-IECS      mean\n",
      "0                                                 \n",
      "2020-12-31  4.311243  3.492764  5.880114  4.561374\n",
      "2021-01-31  4.798633  3.772303  5.606222  4.725719\n",
      "2021-02-28  3.751156  3.750915  7.158876  4.886982\n",
      "             34-IECS   36-IECS   63-IECS      mean\n",
      "0                                                 \n",
      "2021-03-31  4.609124  3.991454  6.315685  4.972088\n",
      "2021-04-30  3.969048  3.927811  5.157361  4.351406\n",
      "2021-05-31  3.264386  4.083513  2.905680  3.417860\n",
      "34-IECS    0.557498\n",
      "36-IECS    0.036186\n",
      "63-IECS   -0.874419\n",
      "mean      -0.992668\n",
      "dtype: float64\n"
     ]
    }
   ],
   "source": [
    "df23=df15.resample('M').mean()\n",
    "df24=df16.resample('M').mean()\n",
    "print(df23)\n",
    "print(df24)\n",
    "\n",
    "\n",
    "\n",
    "df_2324_corr =df23.corrwith(df24.set_axis(df23.index, axis='index', copy=False)) # Correlation matrice of df1h with df2 changing the index name with the index name of dh1 to compare them\n",
    "print(df_2324_corr)"
   ]
  },
  {
   "cell_type": "markdown",
   "id": "cff5f4df",
   "metadata": {},
   "source": [
    "The correlation value is enough for one apartment the 34 but not for the other.  \n",
    "The mean value is no better than the apartment by themselves."
   ]
  },
  {
   "cell_type": "code",
   "execution_count": null,
   "id": "57ebb693",
   "metadata": {},
   "outputs": [],
   "source": []
  }
 ],
 "metadata": {
  "kernelspec": {
   "display_name": "Python 3 (ipykernel)",
   "language": "python",
   "name": "python3"
  },
  "language_info": {
   "codemirror_mode": {
    "name": "ipython",
    "version": 3
   },
   "file_extension": ".py",
   "mimetype": "text/x-python",
   "name": "python",
   "nbconvert_exporter": "python",
   "pygments_lexer": "ipython3",
   "version": "3.11.4"
  }
 },
 "nbformat": 4,
 "nbformat_minor": 5
}

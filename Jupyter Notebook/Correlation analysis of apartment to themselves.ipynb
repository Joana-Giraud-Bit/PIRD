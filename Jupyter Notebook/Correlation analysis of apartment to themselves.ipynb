{
 "cells": [
  {
   "cell_type": "markdown",
   "id": "5a887128",
   "metadata": {},
   "source": [
    "# Correlation analysis for the apartments with themselves\n",
    "\n",
    "<div class=\"alert alert-success\" role=\"alert\">\n",
    "    <strong>Summary:</strong><br> This notebook calculates the correlation between apartment to form groups with similar consumption patterns. The first section of the notebook determines the correlation between apartments with themselves with a sampling of 10-min then we increase the timestep until the correlation hits a correlation above 0.5. At the same time, we explore the second hypothesis which is that the correlation is higher for the mean value of the three apartments. As before we increase the timestep as long as the threshold is not respected.\n",
    "</div>"
   ]
  },
  {
   "cell_type": "markdown",
   "id": "dc53cd44",
   "metadata": {},
   "source": [
    "The `os`module is employed to get the names of the entries by manipulating the path. To get more information, you have the option to refer to the library's documentation. Even though, this notebook will provide explanations for the [functions used]( https://docs.python.org/3/library/os.html).  \n",
    "The `pandas` module facilitates data analysis and the use of dataframes. You can find the library's documentation [there.](https://pandas.pydata.org/docs/)   \n",
    "The `numpy` module is instrumental in manipulating matrices and tables, serving for numerical calculations. You can find the library's documentation on [there.](https://numpy.org/doc/stable/) "
   ]
  },
  {
   "cell_type": "code",
   "execution_count": 1,
   "id": "f805fe74",
   "metadata": {},
   "outputs": [],
   "source": [
    "import os\n",
    "import numpy as np\n",
    "import pandas as pd"
   ]
  },
  {
   "cell_type": "markdown",
   "id": "874e2aa0",
   "metadata": {},
   "source": [
    "The required Domestic Hot Water (DHW) files end with \"-IECS\", this designation indicates data related to DHW.  \n",
    "The `os` module is utilized to compile a list of DHW data for all apartments."
   ]
  },
  {
   "cell_type": "code",
   "execution_count": 2,
   "id": "7a6cfee6",
   "metadata": {},
   "outputs": [],
   "source": [
    "folder = r\"../Data/\"\n",
    "files = os.listdir(folder)\n",
    "#Get a list of the different files named IECS\n",
    "list_IECS = [file for file in files if '-IECS' in file]   \n",
    "list_IECS.sort()"
   ]
  },
  {
   "cell_type": "markdown",
   "id": "059f5209",
   "metadata": {},
   "source": [
    "Using the `pandas` module, we read the CSV files containing the listed information from the previous step. Then, we use the `resample` function within the `pandas` module to resample the data to a 10-min interval."
   ]
  },
  {
   "cell_type": "code",
   "execution_count": 3,
   "id": "5c7111bb",
   "metadata": {},
   "outputs": [],
   "source": [
    "data = {} #Creation of a dictionary\n",
    "for file in list_IECS:\n",
    "    df = pd.read_csv(folder + file) #Read the csv file\n",
    "    ts = df.set_index('0')['Value']     # DataFrame -> TimeSeries\n",
    "    ts.index = pd.to_datetime(ts.index, unit='s')   # index to secondes\n",
    "    ts = ts.resample(\"10Min\").mean()    # resample 10 min\n",
    "    data[file[:-4]] = ts "
   ]
  },
  {
   "cell_type": "markdown",
   "id": "785e9378",
   "metadata": {},
   "source": [
    "We proceed to create a dataframe with the previously acquired data.  \n",
    "Preprocessing our data we remove the NaN value that can create some noises in the study."
   ]
  },
  {
   "cell_type": "code",
   "execution_count": 4,
   "id": "8b951c1b",
   "metadata": {},
   "outputs": [],
   "source": [
    "df = pd.DataFrame(data)\n",
    "#print(df)\n",
    "df = df[~df.isnull().any(axis=1)]  # remove the row with Nan Value"
   ]
  },
  {
   "cell_type": "markdown",
   "id": "6ad43b96",
   "metadata": {},
   "source": [
    "We employ the `drop` function from the `pandas` module to suppress columns unnecessary for our analysis.  \n",
    "Then, the `mean` function from the `pandas` module is used to work out the average value across the three remaining apartments."
   ]
  },
  {
   "cell_type": "code",
   "execution_count": 5,
   "id": "819e658b",
   "metadata": {},
   "outputs": [],
   "source": [
    "df=df.drop(columns=['25-IECS', '26-IECS', '27-IECS', '35-IECS', '64-IECS', '65-IECS', '67-IECS', '9-IECS' ])\n",
    "df['mean'] = df.mean(axis=1) \n",
    "#print(df)"
   ]
  },
  {
   "cell_type": "markdown",
   "id": "38b7bb12",
   "metadata": {},
   "source": [
    "Conversion of the water consumption from l/s to l/h.  \n",
    "Subsequently, we are normalizing the data using the `mean` and `std` function of the `pandas` library. The `mean` function work out the mean of each columns of the dataframe and the `std` function work out the standard deviation of each columns of the dataframe. Then we are working out the normalized values with the formula $\\frac{(x-\\hat x)}{\\sigma}$ where $\\hat x$ is the mean value of the dataframe."
   ]
  },
  {
   "cell_type": "code",
   "execution_count": 6,
   "id": "e4561c08",
   "metadata": {},
   "outputs": [
    {
     "name": "stdout",
     "output_type": "stream",
     "text": [
      "                     34-IECS  36-IECS  63-IECS   mean\n",
      "0                                                    \n",
      "2020-12-01 12:10:00     0.00     0.00     0.00   0.00\n",
      "2020-12-01 12:20:00     0.00     0.00     0.00   0.00\n",
      "2020-12-01 12:30:00     0.00     0.00     0.00   0.00\n",
      "2020-12-01 12:40:00     5.94     0.00     0.00   1.98\n",
      "2020-12-01 12:50:00     0.00     0.00     5.76   1.92\n",
      "...                      ...      ...      ...    ...\n",
      "2021-06-08 14:50:00     0.00    59.40     0.00  19.80\n",
      "2021-06-08 15:00:00     0.00    11.88     0.00   3.96\n",
      "2021-06-08 15:10:00     0.00     0.00     0.00   0.00\n",
      "2021-06-08 15:20:00     0.00    17.64     0.00   5.88\n",
      "2021-06-08 15:30:00     0.00     0.00     0.00   0.00\n",
      "\n",
      "[26089 rows x 4 columns]\n"
     ]
    }
   ],
   "source": [
    "df=df*3600\n",
    "#print(df)\n",
    "#Normalization of the data\n",
    "df_mean = df.mean()\n",
    "df_std=df.std()\n",
    "dfn=(df-df_mean)/df_std #Called dfn because it is the global dataframe will all the data and n for normalization\n",
    "#print(dfn)"
   ]
  },
  {
   "cell_type": "markdown",
   "id": "2160dae9",
   "metadata": {},
   "source": [
    "## Comparing the month of December\n",
    "\n",
    "<div class=\"alert alert-info\">\n",
    "<strong>Details :</strong><br>\n",
    "Working out the correlation of the apartments with themselves and for their average value. If not sufficient, increase the resampling timestep. For this analysis we need to divide our information into two dataframes to compare them together. We want to compare the data of the month of December so we divide the month into two equal dataset.\n",
    "</div>"
   ]
  },
  {
   "cell_type": "markdown",
   "id": "976c164d",
   "metadata": {},
   "source": [
    "We start by dividing our data into two dataframes, the first analysis is composed of the month of December 2020, we will compare their values to see if ten-minute sampling of first part of December is equivalent to ten-minute sampling of the second part of December.  \n",
    "\n",
    "### Data preprocessing: \n",
    "\n",
    "\n",
    "It is essential to have the same number of columns and rows for this analysis either way the correlation won't work. The dataframe may exhibit varying numbers of rows, even though the period remains the same. This difference arises because we eliminated NaN values from the dataset, and their presence could be anywhere in the dataset.   \n",
    "To overcome this issue, we need to preprocess our data so we analyse our values by printing the data and looking at the numbers of rows and columns. We can use the `drop` function to suppress the right number of rows. We must change the dataset until the number of rows is equal to the other one. The dataprocessing is essential to compare the dataframe together, either way it won't be possible and an error will appear."
   ]
  },
  {
   "cell_type": "markdown",
   "id": "34f1c14b",
   "metadata": {},
   "source": [
    "The dataframe are called 1 and 2 because they are the order. The first dataframe is the first dataframe of our analysis.  \n",
    "We use the `corrwith` function of the `pandas` module to work out the correlation between two dataframes using the Pearson correlation criterion expressed by the formula $ r=\\frac{\\sum(x-\\hat x)*(y-\\hat y)}{\\sqrt(\\sum(x-\\hat x)^2*\\sum(y-\\hat y)^2)} $ where $\\hat x$ and $\\hat y$ are the mean of each value.  \n",
    "The name \"df_12_corr\" mean that we get a dataframe containing correlation values (indicate by the suffixe \"corr\") comparing the dataframe 1 and 2."
   ]
  },
  {
   "cell_type": "code",
   "execution_count": 7,
   "id": "4cc364f9",
   "metadata": {},
   "outputs": [
    {
     "name": "stdout",
     "output_type": "stream",
     "text": [
      "                      34-IECS   36-IECS   63-IECS      mean\n",
      "0                                                          \n",
      "2020-12-01 12:10:00 -0.224086 -0.236966 -0.323985 -0.430591\n",
      "2020-12-01 12:20:00 -0.224086 -0.236966 -0.323985 -0.430591\n",
      "2020-12-01 12:30:00 -0.224086 -0.236966 -0.323985 -0.430591\n",
      "2020-12-01 12:40:00  0.099491 -0.236966 -0.323985 -0.238126\n",
      "2020-12-01 12:50:00 -0.224086 -0.236966  0.023660 -0.243958\n",
      "...                       ...       ...       ...       ...\n",
      "2020-12-15 23:10:00  0.099491 -0.236966 -0.323985 -0.238126\n",
      "2020-12-15 23:30:00  0.746644 -0.236966 -0.323985  0.146802\n",
      "2020-12-15 23:40:00 -0.224086 -0.236966 -0.323985 -0.430591\n",
      "2020-12-15 23:50:00  0.423068 -0.236966 -0.323985 -0.045662\n",
      "2020-12-16 00:00:00 -0.224086 -0.236966 -0.323985 -0.430591\n",
      "\n",
      "[2004 rows x 4 columns]\n",
      "                      34-IECS   36-IECS   63-IECS      mean\n",
      "0                                                          \n",
      "2020-12-16 00:10:00 -0.224086 -0.236966 -0.323985 -0.430591\n",
      "2020-12-16 00:20:00 -0.224086 -0.236966 -0.323985 -0.430591\n",
      "2020-12-16 00:30:00 -0.224086 -0.236966 -0.323985 -0.430591\n",
      "2020-12-16 00:40:00 -0.224086 -0.236966 -0.323985 -0.430591\n",
      "2020-12-16 00:50:00 -0.224086 -0.236966 -0.323985 -0.430591\n",
      "...                       ...       ...       ...       ...\n",
      "2020-12-30 15:20:00 -0.224086 -0.236966 -0.323985 -0.430591\n",
      "2020-12-30 15:30:00 -0.224086 -0.236966 -0.323985 -0.430591\n",
      "2020-12-30 15:40:00 -0.224086 -0.236966 -0.323985 -0.430591\n",
      "2020-12-30 15:50:00 -0.224086 -0.236966 -0.323985 -0.430591\n",
      "2020-12-30 16:00:00 -0.224086 -0.236966 -0.323985 -0.430591\n",
      "\n",
      "[2004 rows x 4 columns]\n"
     ]
    }
   ],
   "source": [
    "df1=dfn['2020-12-01 00:00:00' : '2020-12-16 00:00:00']\n",
    "df2=dfn['2020-12-16 00:10:00' : '2020-12-30 16:00:00']\n",
    "print(df1)\n",
    "print(df2)"
   ]
  },
  {
   "cell_type": "markdown",
   "id": "c26f0158",
   "metadata": {},
   "source": [
    "When it is done and we have the same number of rows, we can apply the correlation to the dataset.  \n",
    "To work out the correlation between two dataframe we use the function `corrwith` that calculate the correlation between two dataframes.  \n",
    "However, to compare the dataframes it is necessary to have the same name of the different rows, either way the correlation will return a NaN value. To do so, we use the `set_axis` function of the `pandas` module that sets the rows name of the dataframe 2 as the rows name of the dataframe 1."
   ]
  },
  {
   "cell_type": "code",
   "execution_count": 8,
   "id": "e022b431",
   "metadata": {},
   "outputs": [
    {
     "name": "stdout",
     "output_type": "stream",
     "text": [
      "34-IECS    0.009986\n",
      "36-IECS   -0.011536\n",
      "63-IECS   -0.050793\n",
      "mean      -0.064636\n",
      "dtype: float64\n"
     ]
    }
   ],
   "source": [
    "df_12_corr =df1.corrwith(df2.set_axis(df1.index, axis='index', copy=False)) # Correlation matrice of df1 with df2 changing the index name with the index name of dh1 to compare them\n",
    "print(df_12_corr)"
   ]
  },
  {
   "cell_type": "markdown",
   "id": "19c44fe7",
   "metadata": {},
   "source": [
    "As the value of the correlation are insufficient, we increase the timeset of the sampling to one hour and drop the needed number of value to get the same number of rows by preprocessing the data."
   ]
  },
  {
   "cell_type": "code",
   "execution_count": 9,
   "id": "822f3e48",
   "metadata": {},
   "outputs": [
    {
     "name": "stdout",
     "output_type": "stream",
     "text": [
      "(349, 4)\n",
      "(353, 4)\n",
      "(349, 4)\n",
      "34-IECS   -0.016868\n",
      "36-IECS   -0.093109\n",
      "63-IECS   -0.108098\n",
      "mean      -0.194524\n",
      "dtype: float64\n"
     ]
    }
   ],
   "source": [
    "df3=df1.resample('H').mean()\n",
    "df4=df2.resample('H').mean()\n",
    "\n",
    "print(df3.shape)\n",
    "print(df4.shape)\n",
    "\n",
    "df4=df4.drop('2020-12-30 13:00:00')\n",
    "df4=df4.drop('2020-12-30 14:00:00')\n",
    "df4=df4.drop('2020-12-30 15:00:00')\n",
    "df4=df4.drop('2020-12-30 16:00:00')\n",
    "\n",
    "print(df4.shape)\n",
    "\n",
    "df_34_corr =df3.corrwith(df4.set_axis(df3.index, axis='index', copy=False)) # Correlation matrice of df1h with df2 changing the index name with the index name of dh1 to compare them\n",
    "print(df_34_corr)"
   ]
  },
  {
   "cell_type": "markdown",
   "id": "1ee05f4a",
   "metadata": {},
   "source": [
    "As the value of the correlation are insufficient, we increase the timeset of the sampling to a day. It means that if the correlation works, the apartment will need a tank to cover the hot water supply of one-day.  \n",
    "We repeat the process of preprocessing the data as done previously.  \n",
    "We repeat our analysis with the `corrwith` function and the `set_axis` function for the same purpose as mentioned earlier."
   ]
  },
  {
   "cell_type": "code",
   "execution_count": 10,
   "id": "650f77d0",
   "metadata": {},
   "outputs": [
    {
     "name": "stdout",
     "output_type": "stream",
     "text": [
      "(16, 4)\n",
      "(15, 4)\n",
      "34-IECS    0.037100\n",
      "36-IECS    0.461429\n",
      "63-IECS   -0.120559\n",
      "mean       0.108289\n",
      "dtype: float64\n"
     ]
    }
   ],
   "source": [
    "df5=df1.resample('D').mean()\n",
    "df6=df2.resample('D').mean()\n",
    "\n",
    "print(df5.shape)\n",
    "print(df6.shape)\n",
    "\n",
    "df5=df5.drop('2020-12-16')\n",
    "\n",
    "df_56_corr =df5.corrwith(df6.set_axis(df5.index, axis='index', copy=False)) # Correlation matrice of df1h with df2 changing the index name with the index name of dh1 to compare them\n",
    "print(df_56_corr)"
   ]
  },
  {
   "cell_type": "markdown",
   "id": "96246edb",
   "metadata": {},
   "source": [
    "As the value of the correlation are insufficient except for one apartment, we increase the timeset of the sampling to five days. It means that if the correlation works, the apartment will need a tank to cover the hot water supply of five-days.  \n",
    "We repeat the process of preprocessing the data as done previously.  \n",
    "We repeat our analysis with the `corrwith` function and the `set_axis` function for the same purpose as mentioned earlier."
   ]
  },
  {
   "cell_type": "code",
   "execution_count": 11,
   "id": "6c2aa4b7",
   "metadata": {},
   "outputs": [
    {
     "name": "stdout",
     "output_type": "stream",
     "text": [
      "(4, 4)\n",
      "(3, 4)\n",
      "34-IECS   -0.699922\n",
      "36-IECS   -0.411685\n",
      "63-IECS    0.609686\n",
      "mean      -0.614913\n",
      "dtype: float64\n"
     ]
    }
   ],
   "source": [
    "df7=df1.resample('5D').mean()\n",
    "df8=df2.resample('5D').mean()\n",
    "\n",
    "print(df7.shape)\n",
    "print(df8.shape)\n",
    "\n",
    "df7=df7.drop('2020-12-16')\n",
    "\n",
    "df_78_corr =df7.corrwith(df8.set_axis(df7.index, axis='index', copy=False)) # Correlation matrice of df1h with df2 changing the index name with the index name of dh1 to compare them\n",
    "print(df_78_corr)"
   ]
  },
  {
   "cell_type": "markdown",
   "id": "0124e423",
   "metadata": {},
   "source": [
    "As we can see the correlation work only for the apartment 63 because the threshold is above 0.5.  \n",
    "Compare to what we expected the mean is still low and doesn't increase with time.  \n",
    "We want to shift our analysis to compare one month of data with another one months of data. We compare the month of December with the month of January."
   ]
  },
  {
   "cell_type": "markdown",
   "id": "ebcb071a",
   "metadata": {},
   "source": [
    "## Correlation of the 3 apartments with themselves and of the average value of the apartment starting with a comparison between December 2020 and January 2021\n",
    "\n",
    "<div class=\"alert alert-info\">\n",
    "<strong>Details :</strong><br>\n",
    "Working out the correlation of the apartments with themselves and for their average value. If not sufficient, increase the resampling timestep. For this analysis we need to divide our information into two dataframe to compare them together.\n",
    "</div>"
   ]
  },
  {
   "cell_type": "markdown",
   "id": "a568447e",
   "metadata": {},
   "source": [
    "We start by dividing our data into two dataframes, the second analysis is composed of the month of December 2020 and January 2021, we will compare their values to see if ten-minute sampling of December is equivalent to ten-minute sampling of January.  \n",
    "\n",
    "### Data preprocessing: \n",
    "\n",
    "\n",
    "It is essential to have the same number of columns and rows for this analysis either way the correlation won't work. The dataframe may exhibit varying numbers of rows, even though the period remains the same. This difference arises because we eliminated NaN values from the dataset, and their presence could be anywhere in the dataset.   \n",
    "To overcome this issue, we need to preprocess our data so we analyse our values by printing the data and looking at the numbers of rows and columns. We must change the dataset until the number of rows is equal to the other one. The dataprocessing is essential to compare the dataframe together, either way it won't be possible and an error will appear."
   ]
  },
  {
   "cell_type": "code",
   "execution_count": 12,
   "id": "7dae5967",
   "metadata": {},
   "outputs": [
    {
     "name": "stdout",
     "output_type": "stream",
     "text": [
      "                      34-IECS   36-IECS   63-IECS      mean\n",
      "0                                                          \n",
      "2020-12-01 12:10:00 -0.224086 -0.236966 -0.323985 -0.430591\n",
      "2020-12-01 12:20:00 -0.224086 -0.236966 -0.323985 -0.430591\n",
      "2020-12-01 12:30:00 -0.224086 -0.236966 -0.323985 -0.430591\n",
      "2020-12-01 12:40:00  0.099491 -0.236966 -0.323985 -0.238126\n",
      "2020-12-01 12:50:00 -0.224086 -0.236966  0.023660 -0.243958\n",
      "...                       ...       ...       ...       ...\n",
      "2020-12-30 23:20:00 -0.224086 -0.236966 -0.323985 -0.430591\n",
      "2020-12-30 23:30:00 -0.224086 -0.236966 -0.323985 -0.430591\n",
      "2020-12-30 23:40:00 -0.224086 -0.236966 -0.323985 -0.430591\n",
      "2020-12-30 23:50:00 -0.224086 -0.236966 -0.323985 -0.430591\n",
      "2020-12-31 00:00:00 -0.224086 -0.236966 -0.323985 -0.430591\n",
      "\n",
      "[4053 rows x 4 columns]\n",
      "                      34-IECS   36-IECS   63-IECS      mean\n",
      "0                                                          \n",
      "2021-01-01 00:00:00 -0.224086 -0.236966 -0.323985 -0.430591\n",
      "2021-01-01 00:10:00 -0.224086 -0.236966 -0.323985 -0.430591\n",
      "2021-01-01 00:20:00 -0.224086 -0.236966 -0.323985 -0.430591\n",
      "2021-01-01 00:30:00 -0.224086 -0.236966 -0.323985 -0.430591\n",
      "2021-01-01 00:40:00 -0.224086 -0.236966 -0.323985 -0.430591\n",
      "...                       ...       ...       ...       ...\n",
      "2021-01-30 12:20:00 -0.224086 -0.236966 -0.323985 -0.430591\n",
      "2021-01-30 12:30:00 -0.224086 -0.236966  6.476827  3.220400\n",
      "2021-01-30 12:40:00 -0.224086 -0.236966  5.759808  2.835471\n",
      "2021-01-30 12:50:00 -0.224086 -0.236966 -0.323985 -0.430591\n",
      "2021-01-30 13:00:00 -0.224086 -0.236966 -0.323985 -0.430591\n",
      "\n",
      "[4053 rows x 4 columns]\n"
     ]
    }
   ],
   "source": [
    "df9=dfn['2020-12-01 00:00:00' : '2020-12-31 00:00:00']\n",
    "df10=dfn['2021-01-01 00:00:00' : '2021-01-30 13:00:00']\n",
    "print(df9)\n",
    "print(df10)"
   ]
  },
  {
   "cell_type": "markdown",
   "id": "e2acb477",
   "metadata": {},
   "source": [
    "When it is done and we have the same number of rows, we can apply the correlation to the dataset.  \n",
    "To work out the correlation between two dataframe we use the `corrwith` function that calculate the correlation between two dataframes.  \n",
    "However, to compare the dataframes it is necessary to have the same name of the different rows, either way the correlation will return a NaN value. To do so, we use the `set_axis` function of the `pandas` module that sets the rows name of the dataframe 2 as the rows name of the dataframe 1."
   ]
  },
  {
   "cell_type": "code",
   "execution_count": 13,
   "id": "730107e3",
   "metadata": {
    "scrolled": true
   },
   "outputs": [
    {
     "name": "stdout",
     "output_type": "stream",
     "text": [
      "34-IECS   -0.017422\n",
      "36-IECS   -0.021889\n",
      "63-IECS   -0.025402\n",
      "mean      -0.058032\n",
      "dtype: float64\n"
     ]
    }
   ],
   "source": [
    "df_910_corr =df9.corrwith(df10.set_axis(df9.index, axis='index', copy=False)) # Correlation matrice of df1h with df2 changing the index name with the index name of dh1 to compare them\n",
    "print(df_910_corr)"
   ]
  },
  {
   "cell_type": "markdown",
   "id": "4729e753",
   "metadata": {},
   "source": [
    "As the value of the correlation are insufficient, we increase the timeset of the sampling to one hour.  \n",
    "We repeat the process of preprocessing the data.  \n",
    "We repeat our analysis with the `corrwith` function and the `set_axis` function for the same purpose as mentioned earlier."
   ]
  },
  {
   "cell_type": "code",
   "execution_count": 14,
   "id": "6988f020",
   "metadata": {
    "scrolled": true
   },
   "outputs": [
    {
     "name": "stdout",
     "output_type": "stream",
     "text": [
      "(709, 4)\n",
      "(710, 4)\n",
      "34-IECS   -0.057279\n",
      "36-IECS   -0.065575\n",
      "63-IECS   -0.108426\n",
      "mean      -0.178663\n",
      "dtype: float64\n"
     ]
    }
   ],
   "source": [
    "df11=df9.resample('H').mean()\n",
    "df12=df10.resample('H').mean()\n",
    "\n",
    "print(df11.shape)\n",
    "print(df12.shape)\n",
    "\n",
    "df12=df12.drop('2021-01-30 13:00:00')\n",
    "\n",
    "\n",
    "df_1112_corr =df11.corrwith(df12.set_axis(df11.index, axis='index', copy=False)) # Correlation matrice of df1h with df2 changing the index name with the index name of dh1 to compare them\n",
    "print(df_1112_corr)"
   ]
  },
  {
   "cell_type": "markdown",
   "id": "64d2148f",
   "metadata": {},
   "source": [
    "As the value of the correlation are insufficient, we increase the timeset of the sampling to 10 days. It means that if the correlation works, the apartment will need a tank to cover the hot water supply of ten-days.  \n",
    "We repeat the process of preprocessing the data.  \n",
    "We repeat our analysis with the `corrwith` function and the `set_axis` function for the same purpose as mentioned earlier."
   ]
  },
  {
   "cell_type": "code",
   "execution_count": 15,
   "id": "23e89baf",
   "metadata": {},
   "outputs": [
    {
     "name": "stdout",
     "output_type": "stream",
     "text": [
      "(7, 4)\n",
      "(6, 4)\n",
      "(6, 4)\n",
      "34-IECS   -0.606976\n",
      "36-IECS    0.635867\n",
      "63-IECS   -0.331582\n",
      "mean      -0.086563\n",
      "dtype: float64\n"
     ]
    }
   ],
   "source": [
    "df13=df9.resample('5D').mean()\n",
    "df14=df10.resample('5D').mean()\n",
    "\n",
    "print(df13.shape)\n",
    "print(df14.shape)\n",
    "\n",
    "df13=df13.drop('2020-12-31')\n",
    "print(df13.shape)\n",
    "\n",
    "df_1415_corr =df13.corrwith(df14.set_axis(df13.index, axis='index', copy=False)) # Correlation matrice of df1h with df2 changing the index name with the index name of dh1 to compare them\n",
    "print(df_1415_corr)"
   ]
  },
  {
   "cell_type": "markdown",
   "id": "e71f3395",
   "metadata": {},
   "source": [
    "As we can see the correlation work only for the apartment 36 because the threshold is above 0.5.  \n",
    "Compare to what we expected the mean is still low and doesn't increase with time.  \n",
    "We want to shift our analysis to compare six months with another six months."
   ]
  },
  {
   "cell_type": "markdown",
   "id": "84cc8194",
   "metadata": {},
   "source": [
    "## Comparing two dataframes of three months\n",
    "\n",
    "\n",
    "<div class=\"alert alert-info\">\n",
    "<strong>Details :</strong><br>\n",
    "We repeat our experimentation with two dataframes with three months of data. Starting by working out the correlation of the apartments with themselves and for their average value. If not sufficient, increase the resampling timestep. For this analysis we need to divide our information into two equivalent dataframes to compare them together.\n",
    "</div>"
   ]
  },
  {
   "cell_type": "markdown",
   "id": "dbe8daeb",
   "metadata": {},
   "source": [
    "We start by dividing our data into two dataframes, the third analysis is composed of the three months, we will compare their values to see if ten-minute sampling of first three months is equivalent to ten-minute sampling of the second three months period.  \n",
    "\n",
    "### Data preprocessing:  \n",
    "\n",
    "It is essential to have the same number of columns and rows for this analysis either way the correlation won't work. The dataframe may exhibit varying numbers of rows, even though the period remains the same. This difference arises because we eliminated NaN values from the dataset, and their presence could be anywhere in the dataset.   \n",
    "To overcome this issue, we need to preprocess our data so we analyse our values by printing the data and looking at the numbers of rows and columns. We must change the dataset until the number of rows is equal to the other one. The dataprocessing is essential to compare the dataframe together, either way it won't be possible and an error will appear."
   ]
  },
  {
   "cell_type": "code",
   "execution_count": 16,
   "id": "952c355c",
   "metadata": {},
   "outputs": [
    {
     "name": "stdout",
     "output_type": "stream",
     "text": [
      "                      34-IECS   36-IECS   63-IECS      mean\n",
      "0                                                          \n",
      "2020-12-01 12:10:00 -0.224086 -0.236966 -0.323985 -0.430591\n",
      "2020-12-01 12:20:00 -0.224086 -0.236966 -0.323985 -0.430591\n",
      "2020-12-01 12:30:00 -0.224086 -0.236966 -0.323985 -0.430591\n",
      "2020-12-01 12:40:00  0.099491 -0.236966 -0.323985 -0.238126\n",
      "2020-12-01 12:50:00 -0.224086 -0.236966  0.023660 -0.243958\n",
      "...                       ...       ...       ...       ...\n",
      "2021-02-27 23:20:00 -0.224086 -0.236966 -0.323985 -0.430591\n",
      "2021-02-27 23:30:00 -0.224086 -0.236966 -0.323985 -0.430591\n",
      "2021-02-27 23:40:00 -0.224086 -0.236966 -0.323985 -0.430591\n",
      "2021-02-27 23:50:00 -0.224086 -0.236966 -0.323985 -0.430591\n",
      "2021-02-28 00:00:00 -0.224086 -0.236966 -0.323985 -0.430591\n",
      "\n",
      "[12187 rows x 4 columns]\n",
      "                      34-IECS   36-IECS   63-IECS      mean\n",
      "0                                                          \n",
      "2021-03-01 00:00:00 -0.224086 -0.236966 -0.323985 -0.430591\n",
      "2021-03-01 00:10:00 -0.224086 -0.236966 -0.323985 -0.430591\n",
      "2021-03-01 00:20:00 -0.224086 -0.236966 -0.323985 -0.430591\n",
      "2021-03-01 00:30:00 -0.224086 -0.236966 -0.323985 -0.430591\n",
      "2021-03-01 00:40:00 -0.224086 -0.236966 -0.323985 -0.430591\n",
      "...                       ...       ...       ...       ...\n",
      "2021-05-28 03:20:00 -0.224086 -0.236966 -0.323985 -0.430591\n",
      "2021-05-28 03:30:00 -0.224086 -0.236966 -0.323985 -0.430591\n",
      "2021-05-28 03:40:00 -0.224086 -0.236966 -0.323985 -0.430591\n",
      "2021-05-28 03:50:00 -0.224086 -0.236966 -0.323985 -0.430591\n",
      "2021-05-28 04:00:00 -0.224086 -0.236966 -0.323985 -0.430591\n",
      "\n",
      "[12187 rows x 4 columns]\n",
      "34-IECS   -0.000468\n",
      "36-IECS   -0.003253\n",
      "63-IECS   -0.006198\n",
      "mean      -0.022284\n",
      "dtype: float64\n"
     ]
    }
   ],
   "source": [
    "df15=dfn['2020-12-01 00:00:00' : '2021-02-28 00:00:00']\n",
    "df16=dfn['2021-03-01 00:00:00' : '2021-05-28 04:00:00']\n",
    "print(df15)\n",
    "print(df16)\n",
    "\n",
    "\n",
    "df_1516_corr =df15.corrwith(df16.set_axis(df15.index, axis='index', copy=False)) # Correlation matrice of df1h with df2 changing the index name with the index name of dh1 to compare them\n",
    "print(df_1516_corr)"
   ]
  },
  {
   "cell_type": "markdown",
   "id": "fbd2f087",
   "metadata": {},
   "source": [
    "As the value of the correlation are insufficient, we increase the timeset of the sampling to one hour. It means that if the correlation works, the apartment will need a tank to cover the hot water supply of one-hour.  \n",
    "We repeat the process of preprocessing the data.  \n",
    "We repeat our analysis with the `corrwith` function and the `set_axis` function for the same purpose as mentioned earlier."
   ]
  },
  {
   "cell_type": "code",
   "execution_count": 17,
   "id": "c90fba45",
   "metadata": {},
   "outputs": [
    {
     "name": "stdout",
     "output_type": "stream",
     "text": [
      "(2125, 4)\n",
      "(2117, 4)\n",
      "(2117, 4)\n",
      "34-IECS    0.007814\n",
      "36-IECS    0.007959\n",
      "63-IECS    0.047884\n",
      "mean       0.055771\n",
      "dtype: float64\n"
     ]
    }
   ],
   "source": [
    "df17=df15.resample('H').mean()\n",
    "df18=df16.resample('H').mean()\n",
    "print(df17.shape)\n",
    "print(df18.shape)\n",
    "\n",
    "df17=df17.drop('2020-12-01 12:00:00')\n",
    "df17=df17.drop('2020-12-01 13:00:00')\n",
    "df17=df17.drop('2020-12-01 14:00:00')\n",
    "df17=df17.drop('2020-12-01 15:00:00')\n",
    "df17=df17.drop('2020-12-01 16:00:00')\n",
    "df17=df17.drop('2020-12-01 17:00:00')\n",
    "df17=df17.drop('2020-12-01 18:00:00')\n",
    "df17=df17.drop('2020-12-01 19:00:00')\n",
    "\n",
    "print(df17.shape)\n",
    "\n",
    "df_1718_corr =df17.corrwith(df18.set_axis(df17.index, axis='index', copy=False)) # Correlation matrice of df1h with df2 changing the index name with the index name of dh1 to compare them\n",
    "print(df_1718_corr)"
   ]
  },
  {
   "cell_type": "markdown",
   "id": "ce071225",
   "metadata": {},
   "source": [
    "As the value of the correlation are insufficient, we increase the timeset of the sampling to one day. It means that if the correlation works, the apartment will need a tank to cover the hot water supply of one-day.  \n",
    "We repeat the process of preprocessing the data.  \n",
    "We repeat our analysis with the `corrwith` function and the `set_axis` function for the same purpose as mentioned earlier."
   ]
  },
  {
   "cell_type": "code",
   "execution_count": 18,
   "id": "0bcd9931",
   "metadata": {},
   "outputs": [
    {
     "name": "stdout",
     "output_type": "stream",
     "text": [
      "(90, 4)\n",
      "(89, 4)\n",
      "(89, 4)\n",
      "34-IECS   -0.082955\n",
      "36-IECS    0.092144\n",
      "63-IECS   -0.153276\n",
      "mean       0.084778\n",
      "dtype: float64\n"
     ]
    }
   ],
   "source": [
    "df19=df15.resample('D').mean()\n",
    "df20=df16.resample('D').mean()\n",
    "print(df19.shape)\n",
    "print(df20.shape)\n",
    "\n",
    "df19=df19.drop('2020-12-01')\n",
    "\n",
    "print(df19.shape)\n",
    "\n",
    "df_1920_corr =df19.corrwith(df20.set_axis(df19.index, axis='index', copy=False)) # Correlation matrice of df1h with df2 changing the index name with the index name of dh1 to compare them\n",
    "print(df_1920_corr)"
   ]
  },
  {
   "cell_type": "markdown",
   "id": "ea29c070",
   "metadata": {},
   "source": [
    "As the value of the correlation are insufficient, we increase the timeset of the sampling to 10 days. It means that if the correlation works, the apartment will need a tank to cover the hot water supply of ten-days.  \n",
    "We repeat the process of preprocessing the data.  \n",
    "We repeat our analysis with the `corrwith` function and the `set_axis` function for the same purpose as mentioned earlier."
   ]
  },
  {
   "cell_type": "code",
   "execution_count": 19,
   "id": "f55cf4db",
   "metadata": {},
   "outputs": [
    {
     "name": "stdout",
     "output_type": "stream",
     "text": [
      "(9, 4)\n",
      "(9, 4)\n",
      "34-IECS    0.160359\n",
      "36-IECS   -0.168538\n",
      "63-IECS   -0.584197\n",
      "mean      -0.530821\n",
      "dtype: float64\n"
     ]
    }
   ],
   "source": [
    "df21=df15.resample('10D').mean()\n",
    "df22=df16.resample('10D').mean()\n",
    "print(df21.shape)\n",
    "print(df22.shape)\n",
    "\n",
    "df_2122_corr =df21.corrwith(df22.set_axis(df21.index, axis='index', copy=False)) # Correlation matrice of df1h with df2 changing the index name with the index name of dh1 to compare them\n",
    "print(df_2122_corr)"
   ]
  },
  {
   "cell_type": "markdown",
   "id": "cea23f24",
   "metadata": {},
   "source": [
    "As the value of the correlation are insufficient, we increase the timeset of the sampling to one month. It means that if the correlation works, the apartment will need a tank to cover the hot water supply of one-month.  \n",
    "We repeat the process of preprocessing the data.  \n",
    "We repeat our analysis with the `corrwith` function and the `set_axis` function for the same purpose as mentioned earlier."
   ]
  },
  {
   "cell_type": "code",
   "execution_count": 20,
   "id": "acc0952a",
   "metadata": {},
   "outputs": [
    {
     "name": "stdout",
     "output_type": "stream",
     "text": [
      "(3, 4)\n",
      "(3, 4)\n",
      "34-IECS    0.557498\n",
      "36-IECS    0.036186\n",
      "63-IECS   -0.874419\n",
      "mean      -0.992668\n",
      "dtype: float64\n"
     ]
    }
   ],
   "source": [
    "df23=df15.resample('M').mean()\n",
    "df24=df16.resample('M').mean()\n",
    "print(df23.shape)\n",
    "print(df24.shape)\n",
    "\n",
    "\n",
    "\n",
    "df_2324_corr =df23.corrwith(df24.set_axis(df23.index, axis='index', copy=False)) # Correlation matrice of df1h with df2 changing the index name with the index name of dh1 to compare them\n",
    "print(df_2324_corr)"
   ]
  },
  {
   "cell_type": "markdown",
   "id": "cff5f4df",
   "metadata": {},
   "source": [
    "The correlation value is enough for one apartment the 34 but not for the other.  \n",
    "The mean value is no better than the apartment by themselves."
   ]
  },
  {
   "cell_type": "code",
   "execution_count": null,
   "id": "57ebb693",
   "metadata": {},
   "outputs": [],
   "source": []
  }
 ],
 "metadata": {
  "kernelspec": {
   "display_name": "Python 3 (ipykernel)",
   "language": "python",
   "name": "python3"
  },
  "language_info": {
   "codemirror_mode": {
    "name": "ipython",
    "version": 3
   },
   "file_extension": ".py",
   "mimetype": "text/x-python",
   "name": "python",
   "nbconvert_exporter": "python",
   "pygments_lexer": "ipython3",
   "version": "3.11.4"
  }
 },
 "nbformat": 4,
 "nbformat_minor": 5
}
